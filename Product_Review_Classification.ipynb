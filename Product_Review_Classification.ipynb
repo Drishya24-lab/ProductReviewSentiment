{
  "nbformat": 4,
  "nbformat_minor": 0,
  "metadata": {
    "colab": {
      "provenance": [],
      "authorship_tag": "ABX9TyNqzAkrLiKnWWE9yE3LLZrb",
      "include_colab_link": true
    },
    "kernelspec": {
      "name": "python3",
      "display_name": "Python 3"
    },
    "language_info": {
      "name": "python"
    }
  },
  "cells": [
    {
      "cell_type": "markdown",
      "metadata": {
        "id": "view-in-github",
        "colab_type": "text"
      },
      "source": [
        "<a href=\"https://colab.research.google.com/github/Drishya24-lab/ProductReviewSentiment/blob/main/Product_Review_Classification.ipynb\" target=\"_parent\"><img src=\"https://colab.research.google.com/assets/colab-badge.svg\" alt=\"Open In Colab\"/></a>"
      ]
    },
    {
      "cell_type": "code",
      "execution_count": 11,
      "metadata": {
        "colab": {
          "base_uri": "https://localhost:8080/"
        },
        "id": "kkWEWtfXBkLJ",
        "outputId": "a7228530-d1a9-465c-bee1-280040104844"
      },
      "outputs": [
        {
          "output_type": "stream",
          "name": "stdout",
          "text": [
            "Drive already mounted at /content/drive; to attempt to forcibly remount, call drive.mount(\"/content/drive\", force_remount=True).\n"
          ]
        }
      ],
      "source": [
        "#Mount Google Drive\n",
        "from google.colab import drive\n",
        "drive.mount('/content/drive')\n",
        "\n",
        "#Extract Data from Zip File\n",
        "import zipfile\n",
        "zipfile_path=('/content/drive/MyDrive/Dataset-SA.csv.zip')\n",
        "with zipfile.ZipFile(zipfile_path,'r') as zip_ref:\n",
        "  zip_ref.extractall('/content/drive/MyDrive')\n",
        "\n",
        "#Load Data into Pandas DataFrame\n",
        "import pandas as pd\n",
        "data=pd.read_csv('/content/drive/MyDrive/Dataset-SA.csv')"
      ]
    },
    {
      "cell_type": "code",
      "source": [
        "## Display Data Information\n",
        "\n",
        "print(\"**First 2 rows**\")\n",
        "print(data.head(2))\n",
        "print('\\n')\n",
        "print('**DataFrame Information**')\n",
        "data.info()\n",
        "\n"
      ],
      "metadata": {
        "colab": {
          "base_uri": "https://localhost:8080/"
        },
        "id": "F2-Bd_ApGni3",
        "outputId": "4916c7f4-f13d-4afe-d4fc-643ca2f5b522"
      },
      "execution_count": 12,
      "outputs": [
        {
          "output_type": "stream",
          "name": "stdout",
          "text": [
            "**First 2 rows**\n",
            "                                        product_name product_price Rate  \\\n",
            "0  Candes 12 L Room/Personal Air Cooler??????(Whi...          3999    5   \n",
            "1  Candes 12 L Room/Personal Air Cooler??????(Whi...          3999    5   \n",
            "\n",
            "    Review                                            Summary Sentiment  \n",
            "0   super!  great cooler excellent air flow and for this p...  positive  \n",
            "1  awesome              best budget 2 fit cooler nice cooling  positive  \n",
            "\n",
            "\n",
            "**DataFrame Information**\n",
            "<class 'pandas.core.frame.DataFrame'>\n",
            "RangeIndex: 205052 entries, 0 to 205051\n",
            "Data columns (total 6 columns):\n",
            " #   Column         Non-Null Count   Dtype \n",
            "---  ------         --------------   ----- \n",
            " 0   product_name   205052 non-null  object\n",
            " 1   product_price  205052 non-null  object\n",
            " 2   Rate           205052 non-null  object\n",
            " 3   Review         180388 non-null  object\n",
            " 4   Summary        205041 non-null  object\n",
            " 5   Sentiment      205052 non-null  object\n",
            "dtypes: object(6)\n",
            "memory usage: 9.4+ MB\n"
          ]
        }
      ]
    },
    {
      "cell_type": "code",
      "source": [
        "#Clean and Convert 'product_price' column\n",
        "\n",
        "print(data['product_price'].unique())\n",
        "data['product_price'] = pd.to_numeric(data['product_price'], errors='coerce')    # Remove non-numeric values in the 'product_price' column\n",
        "data = data.dropna(subset=['product_price'])                                     # Drop rows with NaN values in 'product_price' after coercing to numeric\n",
        "data['product_price'] = data['product_price'].astype(int)\n",
        "print('\\n')\n",
        "print(data['product_price'].unique())"
      ],
      "metadata": {
        "colab": {
          "base_uri": "https://localhost:8080/"
        },
        "id": "doIv3BoIPDyo",
        "outputId": "189802b1-86ed-4635-cc66-11d4b1c51b6a",
        "collapsed": true
      },
      "execution_count": 13,
      "outputs": [
        {
          "output_type": "stream",
          "name": "stdout",
          "text": [
            "['3999' '8999' '7999' '9999' '1199' '499' '1999' '1099' '997' '1499' '435'\n",
            " '1349' '30999' '13999' '9990' '14299' '5298' '7599' '11999' '329' '425'\n",
            " '249' '302' '59' '245' '79' '349' '449' '340' '299' '469' '26990' '23479'\n",
            " '29390' '29990' '20990' '44490' '25990' '38490' '42000' '44890' '31590'\n",
            " '41990' '52990' '33990' '18990' '50999' '45550' '1401' '359' '1453' '254'\n",
            " '205' '1256' '1547' '195' '575' '366' '209' '219' '549' '859' '210' '215'\n",
            " '1142' '235' '221' '1599' '2454' '6099' '2399' '599' '849' '699'\n",
            " 'pigeon favourite electric kettle15 l silver black' '4449' '4098' '5599'\n",
            " '5499' '1448' '3569' '2879' '1799' '1329' '5390' '11500' '1220' '9050'\n",
            " '6505' '6495' '11595' '7649' '4399' '6029' '6299' '5919' '6390' '2695'\n",
            " '2949' '7909' '4499' '6525' '6589' '5039' '4219' '4319' '7499' '379'\n",
            " '3499' '6999' '224' '227' '385' '199' '999' '480' '427' '236' '690' '799'\n",
            " '649' '190' '335' '285' '749' '218' '179' '197' '303' '269' '1549' '185'\n",
            " '188' '189' '665' '125' '2190' '2690' '323' '315' '625' '7493' '5993'\n",
            " '988' '150' '2152' '505' '899' '170' '168' '569' '229' '577' '361' '989'\n",
            " '809' '766' '134' '275' '725' '200' '399' '198' '590' '319' '325' '645'\n",
            " '203' '290' '365' '594' '280' '324' '400' '240' '369' '237' '339' '239'\n",
            " '423' '241' '253' '247' '259' '298' '262' '180' '386' '277' '500' '652'\n",
            " '354' '1155' '495' '675' '159' '2299' '1747' '3199' '4979' '3249' '3899'\n",
            " '3749' '4199' '2069' '1899' '4899' '4079' '2999' '3039' '1699' '3479'\n",
            " '1727' '2199' '1839' '1782' '4366' '2499' '1529' '1471' '1819' '1719'\n",
            " '429' '434' '367' '464' '462' '453' '395' '460' '559' '261' '1449' '403'\n",
            " '12881' '7759' '1649' '284' '1169' '1469' '360' '409' '422' '171' '281'\n",
            " '3699' '520' '6499' '3295' '7609' '16499' '6949' '6719' '5999' '109'\n",
            " '260' '231' '173' '130' '160' '220' '519' '63990' '949' '67490' '51990'\n",
            " '59990' '58990' '63600' '3595' '113' '216' '1278' '66990' '86990' '46999'\n",
            " '27490' '46990' '38990' '2709' '2099' '1399' '3399' '343' '1299' '155'\n",
            " '127' '278' '136' '1149' '852' '615' '828' '912' '421' '789' '489' '669'\n",
            " '24490' '16490' '348' '945' '980' '1249' '1565' '2699' '8499' '759'\n",
            " '4999' '27999' '13703' '834' '6387' '2651' '1550' '488' '493' '2799'\n",
            " '16990' '14790' '12990' '8490' '2599' '15999' '8199' '4687' '7799' '7079'\n",
            " '5299' '4330' '5300' '4000' '10000' '10790' '9190' '3599' '8699' '5149'\n",
            " '4084' '9799' '7690' '3746' '4396' '390' '11440' '11690' '8799' '14999'\n",
            " '8797' '8790' '25499' '741' '459' '486' '350' '321' '255' '854' '1233'\n",
            " '581' '306' '2819' '1110' '952' '202' '373' '394' '944' '305' '454' '184'\n",
            " '479' '509' '1097' '1095' '655' '2969' '700' '901' '529' '296' '742'\n",
            " '889' '2096' '2119' '482' '338' '244' '368' '701' '211' '166' '346' '404'\n",
            " '169' '619' '1298' '545' '1260' '270' '176' '330' '279' '194' '448' '258'\n",
            " '1259' '785' '310' '295' '268' '214' '225' '233' '193' '389' '484' '872'\n",
            " '387' '145' '283' '152' '232' '267' '212' '165' '242' '450' '206' '178'\n",
            " '204' '289' '719' '631' '797' '230' '497' '2125' '440' '890' '674' '476'\n",
            " '565' '585' '494' '293' '659' '436' '257' '405' '684' '5079' '6591'\n",
            " '4699' '6195' '5959' '7299' 'Bajaj DX 2 LW Dry Iron'\n",
            " 'Nova Plus Amaze NI 10 1100 W Dry IronGrey  Turquoise' '1290' '1614'\n",
            " '501' '5190' '417' '2590' '6498' '13049' '3268' '12999' '1383' '2995'\n",
            " '470' '606' '475' '517' '1119' '678' '513' '629' '357' '739' '3959'\n",
            " '2692' '3661' '3035' '777' '9950' '474' '648' '163' '544' '154' '1804'\n",
            " '5890' '1709' '2970' '6690' '15490' '8890' '5414' '792' '850' '287' '256'\n",
            " '10890' '14190' '9499' '5990' '4498' '14146' '4715' '5790' '3059' '8449'\n",
            " '8590' '555' '415' '4293' '3307' '3149' '2390' '2990' '2490' '2345' '388']\n",
            "\n",
            "\n",
            "[ 3999  8999  7999  9999  1199   499  1999  1099   997  1499   435  1349\n",
            " 30999 13999  9990 14299  5298  7599 11999   329   425   249   302    59\n",
            "   245    79   349   449   340   299   469 26990 23479 29390 29990 20990\n",
            " 44490 25990 38490 42000 44890 31590 41990 52990 33990 18990 50999 45550\n",
            "  1401   359  1453   254   205  1256  1547   195   575   366   209   219\n",
            "   549   859   210   215  1142   235   221  1599  2454  6099  2399   599\n",
            "   849   699  4449  4098  5599  5499  1448  3569  2879  1799  1329  5390\n",
            " 11500  1220  9050  6505  6495 11595  7649  4399  6029  6299  5919  6390\n",
            "  2695  2949  7909  4499  6525  6589  5039  4219  4319  7499   379  3499\n",
            "  6999   224   227   385   199   999   480   427   236   690   799   649\n",
            "   190   335   285   749   218   179   197   303   269  1549   185   188\n",
            "   189   665   125  2190  2690   323   315   625  7493  5993   988   150\n",
            "  2152   505   899   170   168   569   229   577   361   989   809   766\n",
            "   134   275   725   200   399   198   590   319   325   645   203   290\n",
            "   365   594   280   324   400   240   369   237   339   239   423   241\n",
            "   253   247   259   298   262   180   386   277   500   652   354  1155\n",
            "   495   675   159  2299  1747  3199  4979  3249  3899  3749  4199  2069\n",
            "  1899  4899  4079  2999  3039  1699  3479  1727  2199  1839  1782  4366\n",
            "  2499  1529  1471  1819  1719   429   434   367   464   462   453   395\n",
            "   460   559   261  1449   403 12881  7759  1649   284  1169  1469   360\n",
            "   409   422   171   281  3699   520  6499  3295  7609 16499  6949  6719\n",
            "  5999   109   260   231   173   130   160   220   519 63990   949 67490\n",
            " 51990 59990 58990 63600  3595   113   216  1278 66990 86990 46999 27490\n",
            " 46990 38990  2709  2099  1399  3399   343  1299   155   127   278   136\n",
            "  1149   852   615   828   912   421   789   489   669 24490 16490   348\n",
            "   945   980  1249  1565  2699  8499   759  4999 27999 13703   834  6387\n",
            "  2651  1550   488   493  2799 16990 14790 12990  8490  2599 15999  8199\n",
            "  4687  7799  7079  5299  4330  5300  4000 10000 10790  9190  3599  8699\n",
            "  5149  4084  9799  7690  3746  4396   390 11440 11690  8799 14999  8797\n",
            "  8790 25499   741   459   486   350   321   255   854  1233   581   306\n",
            "  2819  1110   952   202   373   394   944   305   454   184   479   509\n",
            "  1097  1095   655  2969   700   901   529   296   742   889  2096  2119\n",
            "   482   338   244   368   701   211   166   346   404   169   619  1298\n",
            "   545  1260   270   176   330   279   194   448   258  1259   785   310\n",
            "   295   268   214   225   233   193   389   484   872   387   145   283\n",
            "   152   232   267   212   165   242   450   206   178   204   289   719\n",
            "   631   797   230   497  2125   440   890   674   476   565   585   494\n",
            "   293   659   436   257   405   684  5079  6591  4699  6195  5959  7299\n",
            "  1290  1614   501  5190   417  2590  6498 13049  3268 12999  1383  2995\n",
            "   470   606   475   517  1119   678   513   629   357   739  3959  2692\n",
            "  3661  3035   777  9950   474   648   163   544   154  1804  5890  1709\n",
            "  2970  6690 15490  8890  5414   792   850   287   256 10890 14190  9499\n",
            "  5990  4498 14146  4715  5790  3059  8449  8590   555   415  4293  3307\n",
            "  3149  2390  2990  2490  2345   388]\n"
          ]
        },
        {
          "output_type": "stream",
          "name": "stderr",
          "text": [
            "<ipython-input-13-64f7b84d8911>:6: SettingWithCopyWarning: \n",
            "A value is trying to be set on a copy of a slice from a DataFrame.\n",
            "Try using .loc[row_indexer,col_indexer] = value instead\n",
            "\n",
            "See the caveats in the documentation: https://pandas.pydata.org/pandas-docs/stable/user_guide/indexing.html#returning-a-view-versus-a-copy\n",
            "  data['product_price'] = data['product_price'].astype(int)\n"
          ]
        }
      ]
    },
    {
      "cell_type": "code",
      "source": [
        "#Clean and Convert 'Rate' column\n",
        "print(data['Rate'].unique())\n",
        "data['Rate'] = data['Rate'].astype(int)\n",
        "print('\\n')\n",
        "\n",
        "print(data['Rate'].unique())"
      ],
      "metadata": {
        "colab": {
          "base_uri": "https://localhost:8080/"
        },
        "id": "IgB2JGVpY13Q",
        "outputId": "a35d94c0-1d29-45b4-af00-5784bde3c937"
      },
      "execution_count": 14,
      "outputs": [
        {
          "output_type": "stream",
          "name": "stdout",
          "text": [
            "['5' '3' '1' '4' '2']\n",
            "\n",
            "\n",
            "[5 3 1 4 2]\n"
          ]
        }
      ]
    },
    {
      "cell_type": "code",
      "source": [
        "#Convert 'Sentiment' column to categorical type\n",
        "\n",
        "data['Sentiment'] = data['Sentiment'].astype('category')\n",
        "\n"
      ],
      "metadata": {
        "id": "XPc_FD5aaGau"
      },
      "execution_count": 15,
      "outputs": []
    },
    {
      "cell_type": "code",
      "source": [
        "#Handle Missing Values\n",
        "\n",
        "print('Null values in each column')\n",
        "print(data.isnull().sum())\n",
        "data=data.dropna(subset=['Review'])\n",
        "data['Summary']=data['Summary'].fillna('No Summary')\n",
        "print(data.isnull().sum())\n"
      ],
      "metadata": {
        "colab": {
          "base_uri": "https://localhost:8080/"
        },
        "id": "0IeSBv4QagQ8",
        "outputId": "13ad6b8f-3862-4eeb-be22-c05cafa33319"
      },
      "execution_count": 16,
      "outputs": [
        {
          "output_type": "stream",
          "name": "stdout",
          "text": [
            "Null values in each column\n",
            "product_name         0\n",
            "product_price        0\n",
            "Rate                 0\n",
            "Review           24664\n",
            "Summary             11\n",
            "Sentiment            0\n",
            "dtype: int64\n",
            "product_name     0\n",
            "product_price    0\n",
            "Rate             0\n",
            "Review           0\n",
            "Summary          0\n",
            "Sentiment        0\n",
            "dtype: int64\n"
          ]
        },
        {
          "output_type": "stream",
          "name": "stderr",
          "text": [
            "<ipython-input-16-72bfe0f5e035>:6: SettingWithCopyWarning: \n",
            "A value is trying to be set on a copy of a slice from a DataFrame.\n",
            "Try using .loc[row_indexer,col_indexer] = value instead\n",
            "\n",
            "See the caveats in the documentation: https://pandas.pydata.org/pandas-docs/stable/user_guide/indexing.html#returning-a-view-versus-a-copy\n",
            "  data['Summary']=data['Summary'].fillna('No Summary')\n"
          ]
        }
      ]
    },
    {
      "cell_type": "code",
      "source": [
        "# Text Cleaning\n",
        "\n",
        "import re\n",
        "\n",
        "def clean_text(text):\n",
        "    text = re.sub(r'[^a-zA-Z\\s]', '', text)  # Remove punctuation and special characters\n",
        "    return text\n",
        "\n",
        "data['Review'] = data['Review'].apply(clean_text)\n"
      ],
      "metadata": {
        "id": "uDOM8F4Vdsbu"
      },
      "execution_count": 17,
      "outputs": []
    },
    {
      "cell_type": "code",
      "source": [
        "#Convert to Lowercase\n",
        "\n",
        "data['Review'] = data['Review'].str.lower()\n"
      ],
      "metadata": {
        "id": "Bk3k6q9vlGbQ"
      },
      "execution_count": 18,
      "outputs": []
    },
    {
      "cell_type": "code",
      "source": [
        "#Tokenization\n",
        "\n",
        "from nltk.tokenize import word_tokenize\n",
        "import nltk\n",
        "nltk.download('punkt')\n",
        "\n",
        "data['Review'] = data['Review'].apply(word_tokenize)\n"
      ],
      "metadata": {
        "colab": {
          "base_uri": "https://localhost:8080/"
        },
        "id": "T5gHoVd3-I1E",
        "outputId": "f3ed72e4-94d5-449f-99c5-12493659b65b"
      },
      "execution_count": 19,
      "outputs": [
        {
          "output_type": "stream",
          "name": "stderr",
          "text": [
            "[nltk_data] Downloading package punkt to /root/nltk_data...\n",
            "[nltk_data]   Unzipping tokenizers/punkt.zip.\n"
          ]
        }
      ]
    },
    {
      "cell_type": "code",
      "source": [
        " #Remove Stop Words\n",
        "\n",
        " from nltk.corpus import stopwords\n",
        "nltk.download('stopwords')\n",
        "\n",
        "stop_words = set(stopwords.words('english'))\n",
        "data['Review'] = data['Review'].apply(lambda x: [word for word in x if word not in stop_words])\n"
      ],
      "metadata": {
        "colab": {
          "base_uri": "https://localhost:8080/"
        },
        "id": "VrVYLKrJ-Yr6",
        "outputId": "d08cb042-d577-487f-c825-502b852f516b"
      },
      "execution_count": 20,
      "outputs": [
        {
          "output_type": "stream",
          "name": "stderr",
          "text": [
            "[nltk_data] Downloading package stopwords to /root/nltk_data...\n",
            "[nltk_data]   Unzipping corpora/stopwords.zip.\n"
          ]
        }
      ]
    },
    {
      "cell_type": "code",
      "source": [
        "# Lemmatization/Stemming\n",
        "\n",
        "from nltk.stem import WordNetLemmatizer\n",
        "nltk.download('wordnet')\n",
        "\n",
        "lemmatizer = WordNetLemmatizer()\n",
        "data['Review'] = data['Review'].apply(lambda x: [lemmatizer.lemmatize(word) for word in x])\n"
      ],
      "metadata": {
        "colab": {
          "base_uri": "https://localhost:8080/"
        },
        "id": "3Zn2NG5cAZ--",
        "outputId": "fd2692ff-e67a-4a37-e25b-9332ecd85dfb"
      },
      "execution_count": 21,
      "outputs": [
        {
          "output_type": "stream",
          "name": "stderr",
          "text": [
            "[nltk_data] Downloading package wordnet to /root/nltk_data...\n"
          ]
        }
      ]
    },
    {
      "cell_type": "code",
      "source": [
        "#Reconstruct Cleaned Text\n",
        "\n",
        "data['Review'] = data['Review'].apply(lambda x: ' '.join(x))\n"
      ],
      "metadata": {
        "id": "j1MBO_zVAi62"
      },
      "execution_count": 22,
      "outputs": []
    },
    {
      "cell_type": "code",
      "source": [
        "#Feature Extraction - Bag of Words\n",
        "from sklearn.feature_extraction.text import CountVectorizer\n",
        "\n",
        "data['Review'] = data['Review'].astype(str) #Convert the column to string type\n",
        "\n",
        "# Create the BoW model\n",
        "vectorizer = CountVectorizer()\n",
        "X_bow = vectorizer.fit_transform(data['Review'])\n"
      ],
      "metadata": {
        "id": "2RPk2F8AovBX"
      },
      "execution_count": 23,
      "outputs": []
    },
    {
      "cell_type": "code",
      "source": [
        "\n",
        "#Feature Extraction - TF-IDF\n",
        "from sklearn.feature_extraction.text import TfidfVectorizer\n",
        "\n",
        "# Create the TF-IDF model\n",
        "tfidf_vectorizer = TfidfVectorizer()\n",
        "X_tfidf = tfidf_vectorizer.fit_transform(data['Review'])\n",
        "\n"
      ],
      "metadata": {
        "id": "29R4PwwTo_1g"
      },
      "execution_count": 24,
      "outputs": []
    },
    {
      "cell_type": "code",
      "source": [
        "#Encode Target Variable\n",
        "from sklearn.preprocessing import LabelEncoder\n",
        "\n",
        "label_encoder = LabelEncoder()\n",
        "y = label_encoder.fit_transform(data['Sentiment'])\n",
        "\n"
      ],
      "metadata": {
        "id": "dvc73KvMpOHQ"
      },
      "execution_count": 25,
      "outputs": []
    },
    {
      "cell_type": "code",
      "source": [
        "#Split Dataset into Training and Testing Sets\n",
        "from sklearn.model_selection import train_test_split\n",
        "\n",
        "X_train, X_test, y_train, y_test = train_test_split(X_tfidf, y, test_size=0.2, random_state=42)\n"
      ],
      "metadata": {
        "id": "rmoZeXJPs6x6"
      },
      "execution_count": 26,
      "outputs": []
    },
    {
      "cell_type": "code",
      "source": [
        "#Model Training - Naive Bayes\n",
        "from sklearn.naive_bayes import MultinomialNB\n",
        "\n",
        "nb_model = MultinomialNB()\n",
        "nb_model.fit(X_train, y_train)\n",
        "y_pred = nb_model.predict(X_test)\n"
      ],
      "metadata": {
        "id": "x_ZumK0ptAw1"
      },
      "execution_count": 27,
      "outputs": []
    },
    {
      "cell_type": "code",
      "source": [
        "# Evaluate Naive Bayes Model\n",
        "from sklearn.metrics import classification_report, accuracy_score\n",
        "\n",
        "print(\"Accuracy:\", accuracy_score(y_test, y_pred))\n",
        "print(\"\\nClassification Report:\\n\", classification_report(y_test, y_pred))\n"
      ],
      "metadata": {
        "colab": {
          "base_uri": "https://localhost:8080/"
        },
        "id": "Vkh9MmPUtTd2",
        "outputId": "6a2b88bb-4164-4ba9-dc05-55d554651355"
      },
      "execution_count": 28,
      "outputs": [
        {
          "output_type": "stream",
          "name": "stdout",
          "text": [
            "Accuracy: 0.901543919948998\n",
            "\n",
            "Classification Report:\n",
            "               precision    recall  f1-score   support\n",
            "\n",
            "           0       0.85      0.71      0.77      4894\n",
            "           1       0.06      0.00      0.01      1763\n",
            "           2       0.91      0.99      0.95     29420\n",
            "\n",
            "    accuracy                           0.90     36077\n",
            "   macro avg       0.61      0.57      0.58     36077\n",
            "weighted avg       0.86      0.90      0.88     36077\n",
            "\n"
          ]
        }
      ]
    },
    {
      "cell_type": "code",
      "source": [
        "#Model Training - Logistic Regression\n",
        "from sklearn.linear_model import LogisticRegression\n",
        "\n",
        "lr_model = LogisticRegression(max_iter=1000)\n",
        "lr_model.fit(X_train, y_train)\n",
        "y_pred_lr = lr_model.predict(X_test)\n",
        "print(\"\\nLogistic Regression Report:\\n\", classification_report(y_test, y_pred_lr))\n"
      ],
      "metadata": {
        "colab": {
          "base_uri": "https://localhost:8080/"
        },
        "id": "ZKeyglvbtX1q",
        "outputId": "fbeec75c-3071-483b-e395-736f12cd9d1d"
      },
      "execution_count": 29,
      "outputs": [
        {
          "output_type": "stream",
          "name": "stdout",
          "text": [
            "\n",
            "Logistic Regression Report:\n",
            "               precision    recall  f1-score   support\n",
            "\n",
            "           0       0.85      0.75      0.80      4894\n",
            "           1       0.00      0.00      0.00      1763\n",
            "           2       0.92      0.99      0.95     29420\n",
            "\n",
            "    accuracy                           0.91     36077\n",
            "   macro avg       0.59      0.58      0.58     36077\n",
            "weighted avg       0.86      0.91      0.88     36077\n",
            "\n"
          ]
        },
        {
          "output_type": "stream",
          "name": "stderr",
          "text": [
            "/usr/local/lib/python3.10/dist-packages/sklearn/metrics/_classification.py:1531: UndefinedMetricWarning: Precision is ill-defined and being set to 0.0 in labels with no predicted samples. Use `zero_division` parameter to control this behavior.\n",
            "  _warn_prf(average, modifier, f\"{metric.capitalize()} is\", len(result))\n",
            "/usr/local/lib/python3.10/dist-packages/sklearn/metrics/_classification.py:1531: UndefinedMetricWarning: Precision is ill-defined and being set to 0.0 in labels with no predicted samples. Use `zero_division` parameter to control this behavior.\n",
            "  _warn_prf(average, modifier, f\"{metric.capitalize()} is\", len(result))\n",
            "/usr/local/lib/python3.10/dist-packages/sklearn/metrics/_classification.py:1531: UndefinedMetricWarning: Precision is ill-defined and being set to 0.0 in labels with no predicted samples. Use `zero_division` parameter to control this behavior.\n",
            "  _warn_prf(average, modifier, f\"{metric.capitalize()} is\", len(result))\n"
          ]
        }
      ]
    },
    {
      "cell_type": "code",
      "source": [
        "#Model Training - SVM with Grid Search\n",
        "\n",
        "from sklearn.model_selection import GridSearchCV\n",
        "from sklearn.svm import SVC\n",
        "\n",
        "param_grid = {'C': [0.1, 1, 10], 'kernel': ['linear', 'rbf']}\n",
        "grid_search = GridSearchCV(SVC(), param_grid, scoring='accuracy', cv=3)\n",
        "grid_search.fit(X_train, y_train)\n",
        "print(\"Best Parameters:\", grid_search.best_params_)\n"
      ],
      "metadata": {
        "colab": {
          "base_uri": "https://localhost:8080/"
        },
        "id": "707wHalKtcBM",
        "outputId": "fac83997-ab5c-4192-ae6b-d4a359279f03"
      },
      "execution_count": 30,
      "outputs": [
        {
          "output_type": "stream",
          "name": "stdout",
          "text": [
            "Best Parameters: {'C': 1, 'kernel': 'linear'}\n"
          ]
        }
      ]
    },
    {
      "cell_type": "code",
      "source": [
        "#Best SVM Model Training\n",
        "best_svm_model = SVC(C=1, kernel='linear')\n",
        "best_svm_model.fit(X_train, y_train)\n",
        "y_pred_svm = best_svm_model.predict(X_test)\n"
      ],
      "metadata": {
        "id": "xFdHlf0atpRk"
      },
      "execution_count": 31,
      "outputs": []
    },
    {
      "cell_type": "code",
      "source": [
        "# Evaluate SVM Model\n",
        "\n",
        "print(\"SVM Model Accuracy:\", accuracy_score(y_test, y_pred_svm))\n",
        "print(\"\\nClassification Report:\\n\", classification_report(y_test, y_pred_svm))\n"
      ],
      "metadata": {
        "colab": {
          "base_uri": "https://localhost:8080/"
        },
        "id": "umoGjtEl3Pwr",
        "outputId": "b1f4a373-77b4-4c68-d460-47b6c8fd2360"
      },
      "execution_count": 32,
      "outputs": [
        {
          "output_type": "stream",
          "name": "stdout",
          "text": [
            "SVM Model Accuracy: 0.9081963577902818\n",
            "\n",
            "Classification Report:\n",
            "               precision    recall  f1-score   support\n",
            "\n",
            "           0       0.85      0.75      0.80      4894\n",
            "           1       0.00      0.00      0.00      1763\n",
            "           2       0.92      0.99      0.95     29420\n",
            "\n",
            "    accuracy                           0.91     36077\n",
            "   macro avg       0.59      0.58      0.58     36077\n",
            "weighted avg       0.86      0.91      0.88     36077\n",
            "\n"
          ]
        }
      ]
    },
    {
      "cell_type": "code",
      "source": [
        "#Save the Model\n",
        "\n",
        "import joblib\n",
        "joblib.dump(best_svm_model, 'best_svm_sentiment_model.pkl')\n"
      ],
      "metadata": {
        "colab": {
          "base_uri": "https://localhost:8080/"
        },
        "id": "QkyRVZi-3dZ9",
        "outputId": "051b7a35-3b7c-4413-b488-ed60b1e0c213"
      },
      "execution_count": 33,
      "outputs": [
        {
          "output_type": "execute_result",
          "data": {
            "text/plain": [
              "['best_svm_sentiment_model.pkl']"
            ]
          },
          "metadata": {},
          "execution_count": 33
        }
      ]
    },
    {
      "cell_type": "code",
      "source": [],
      "metadata": {
        "id": "4WOwiEIv3kPl"
      },
      "execution_count": null,
      "outputs": []
    }
  ]
}